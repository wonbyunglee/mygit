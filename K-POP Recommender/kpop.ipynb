{
 "cells": [
  {
   "cell_type": "code",
   "execution_count": 2,
   "metadata": {},
   "outputs": [],
   "source": [
    "import pandas as pd\n",
    "\n",
    "from utils import data_parser\n",
    "data = {}\n",
    "\n",
    "# Custom dataset (Melon chart 100 2010~2023)\n",
    "for year in range(2010, 2024):\n",
    "    year_data = data_parser.get_dict(year)\n",
    "    \n",
    "    if year_data:\n",
    "        data.update(year_data)\n",
    "\n",
    "extracted_data = []\n",
    "\n",
    "# Iterate through the nested dictionary to extract the required information\n",
    "for year, months in data.items():\n",
    "    for month, ranks in months.items():\n",
    "        for rank, song_info in ranks.items():\n",
    "            song_name = song_info[\"song_name\"]\n",
    "            artist = song_info[\"artist\"]\n",
    "            lyrics_lines = song_info[\"lyrics\"][\"lines\"]\n",
    "            for line in lyrics_lines:\n",
    "                extracted_data.append({\n",
    "                    \"Song Name\": song_name,\n",
    "                    \"Artist\": artist,\n",
    "                    \"Line\": line\n",
    "                })\n",
    "\n",
    "df_songs = pd.DataFrame(extracted_data)\n",
    "df_songs.to_csv(\"songs_sample_10~24.csv\", index=False, encoding='utf-8-sig')"
   ]
  }
 ],
 "metadata": {
  "kernelspec": {
   "display_name": "Python 3",
   "language": "python",
   "name": "python3"
  },
  "language_info": {
   "codemirror_mode": {
    "name": "ipython",
    "version": 3
   },
   "file_extension": ".py",
   "mimetype": "text/x-python",
   "name": "python",
   "nbconvert_exporter": "python",
   "pygments_lexer": "ipython3",
   "version": "3.11.3"
  }
 },
 "nbformat": 4,
 "nbformat_minor": 2
}
